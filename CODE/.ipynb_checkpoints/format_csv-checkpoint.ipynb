{
 "cells": [
  {
   "cell_type": "code",
   "execution_count": 32,
   "id": "b76b0e54",
   "metadata": {},
   "outputs": [
    {
     "name": "stdout",
     "output_type": "stream",
     "text": [
      "[[0.0 '23326' -0.021975785 ... 0.056072699999999996 0.03736734 0.06537931]\n",
      " [1.0 '23326' -0.063353375 ... 0.040720332000000005 0.03623052\n",
      "  0.068164565]\n",
      " [2.0 '23326' -0.033935204 ... 0.046190977 0.03486958 0.05468605]\n",
      " ...\n",
      " [7.0 '21684' -0.0040437137 ... 0.05336937 0.05442305 0.024123661]\n",
      " [8.0 '21684' 0.012871398000000001 ... 0.026227834 0.06708232 0.059459377]\n",
      " [9.0 '21684' -0.025375135 ... 0.068041004 0.07626489999999997\n",
      "  0.034631357]]\n",
      "save suc\n"
     ]
    }
   ],
   "source": [
    "import numpy as np\n",
    "import pandas as pd\n",
    "import csv\n",
    "import os\n",
    "# path = './api_usage'\n",
    "# files = os.listdir(path)\n",
    "\n",
    "# data = []\n",
    "# for index, file in enumerate(files): \n",
    "#     print(file)\n",
    "#     staff_id = file\n",
    "#     csv_path = path + '/' + staff_id + '/feat/' + '{}_feat.csv'.format(staff_id)\n",
    "# #     print(csv_path)\n",
    "#     if (index < 1 ):\n",
    "#         data = np.array(pd.read_csv(csv_path))\n",
    "# #         print(data)\n",
    "#         dataseries = data\n",
    "# #         print(dataseries)\n",
    "#     else :\n",
    "#         data = np.array(pd.read_csv(csv_path))\n",
    "#         dataseries = np.append(dataseries,data,axis=0)\n",
    "#         print(dataseries)\n",
    "\n",
    "\n",
    "data = np.array(pd.read_csv('./newall_face_feat_0825.csv'))\n",
    "# add = np.array([(data[:,2].split('.')[0])])\n",
    "\n",
    "############################################################ REPLACE staff_id xxxxxxxxx.0 TO xxxxxxxxxxx\n",
    "# for i in range(0,542,1):\n",
    "#     data[i,2] = (data[i,2].split('.')[0])\n",
    "\n",
    "############################################################ 刪除某COL OR ROW numpy.delete(arr, obj, axis=None)\n",
    "data = np.delete(data, 0, axis=1)\n",
    "data = np.delete(data, 0, axis=1)\n",
    "save_feat_path = '.'\n",
    "print(data)\n",
    "data_df = pd.DataFrame(data[:,])\n",
    "# datapd.Series(submission)\n",
    "data_df.to_csv(save_feat_path + '/' +'all_face_feat_0825.csv')\n",
    "print(\"save suc\")\n",
    "        "
   ]
  },
  {
   "cell_type": "code",
   "execution_count": null,
   "id": "86acb825",
   "metadata": {},
   "outputs": [],
   "source": []
  }
 ],
 "metadata": {
  "kernelspec": {
   "display_name": "Python 3 (ipykernel)",
   "language": "python",
   "name": "python3"
  },
  "language_info": {
   "codemirror_mode": {
    "name": "ipython",
    "version": 3
   },
   "file_extension": ".py",
   "mimetype": "text/x-python",
   "name": "python",
   "nbconvert_exporter": "python",
   "pygments_lexer": "ipython3",
   "version": "3.8.13"
  }
 },
 "nbformat": 4,
 "nbformat_minor": 5
}
