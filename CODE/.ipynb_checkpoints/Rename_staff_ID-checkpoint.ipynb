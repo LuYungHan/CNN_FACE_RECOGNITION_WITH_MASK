{
 "cells": [
  {
   "cell_type": "code",
   "execution_count": 11,
   "id": "f5401a8c",
   "metadata": {},
   "outputs": [
    {
     "name": "stdout",
     "output_type": "stream",
     "text": [
      "[[0 0.0 '23326' ... 0.0560727 0.03736734 0.06537931]\n",
      " [1 1.0 '23326' ... 0.040720332000000005 0.03623052 0.068164565]\n",
      " [2 2.0 '23326' ... 0.046190977 0.03486958 0.05468605]\n",
      " ...\n",
      " [604 7.0 '21684' ... 0.05336937 0.05442305 0.024123661]\n",
      " [605 8.0 '21684' ... 0.026227834 0.06708232 0.059459377]\n",
      " [606 9.0 '21684' ... 0.068041004 0.07626489999999997 0.034631357]]\n",
      "save suc\n"
     ]
    }
   ],
   "source": [
    "import numpy as np\n",
    "import pandas as pd\n",
    "import csv\n",
    "import os\n",
    "# path = './api_usage'\n",
    "# files = os.listdir(path)\n",
    "\n",
    "# data = []\n",
    "# for index, file in enumerate(files): \n",
    "#     print(file)\n",
    "#     staff_id = file\n",
    "#     csv_path = path + '/' + staff_id + '/feat/' + '{}_feat.csv'.format(staff_id)\n",
    "# #     print(csv_path)\n",
    "#     if (index < 1 ):\n",
    "#         data = np.array(pd.read_csv(csv_path))\n",
    "# #         print(data)\n",
    "#         dataseries = data\n",
    "# #         print(dataseries)\n",
    "#     else :\n",
    "#         data = np.array(pd.read_csv(csv_path))\n",
    "#         dataseries = np.append(dataseries,data,axis=0)\n",
    "#         print(dataseries)\n",
    "\n",
    "\n",
    "data = np.array(pd.read_csv('./all_face_feat_0825.csv'))\n",
    "# add = np.array([(data[:,2].split('.')[0])])\n",
    "for i in range(0,607,1):\n",
    "    data[i,2] = (data[i,2].split('.')[0])\n",
    "save_feat_path = '.'\n",
    "print(data)\n",
    "data_df = pd.DataFrame(data)\n",
    "# datapd.Series(submission)\n",
    "data_df.to_csv(save_feat_path + '/' +'newall_face_feat_0825.csv')\n",
    "print(\"save suc\")\n",
    "        "
   ]
  },
  {
   "cell_type": "code",
   "execution_count": null,
   "id": "79fc26ec",
   "metadata": {},
   "outputs": [],
   "source": []
  }
 ],
 "metadata": {
  "kernelspec": {
   "display_name": "Python 3 (ipykernel)",
   "language": "python",
   "name": "python3"
  },
  "language_info": {
   "codemirror_mode": {
    "name": "ipython",
    "version": 3
   },
   "file_extension": ".py",
   "mimetype": "text/x-python",
   "name": "python",
   "nbconvert_exporter": "python",
   "pygments_lexer": "ipython3",
   "version": "3.8.13"
  }
 },
 "nbformat": 4,
 "nbformat_minor": 5
}
